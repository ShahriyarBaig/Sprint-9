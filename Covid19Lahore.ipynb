{
 "cells": [
  {
   "cell_type": "markdown",
   "id": "0f0eea2a",
   "metadata": {
    "ExecuteTime": {
     "end_time": "2021-04-03T19:31:07.690982Z",
     "start_time": "2021-04-03T19:31:07.684183Z"
    }
   },
   "source": [
    "### Heading"
   ]
  },
  {
   "cell_type": "markdown",
   "id": "dc17e1cf",
   "metadata": {},
   "source": [
    "#### DockerLogs"
   ]
  },
  {
   "cell_type": "markdown",
   "id": "96ec8750",
   "metadata": {},
   "source": [
    "#### Dockermenifest"
   ]
  }
 ],
 "metadata": {
  "kernelspec": {
   "display_name": "Python 3",
   "language": "python",
   "name": "python3"
  },
  "language_info": {
   "codemirror_mode": {
    "name": "ipython",
    "version": 3
   },
   "file_extension": ".py",
   "mimetype": "text/x-python",
   "name": "python",
   "nbconvert_exporter": "python",
   "pygments_lexer": "ipython3",
   "version": "3.8.5"
  },
  "toc": {
   "base_numbering": 1,
   "nav_menu": {},
   "number_sections": true,
   "sideBar": true,
   "skip_h1_title": false,
   "title_cell": "Table of Contents",
   "title_sidebar": "Contents",
   "toc_cell": false,
   "toc_position": {},
   "toc_section_display": true,
   "toc_window_display": false
  }
 },
 "nbformat": 4,
 "nbformat_minor": 5
}
